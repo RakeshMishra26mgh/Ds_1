{
  "nbformat": 4,
  "nbformat_minor": 0,
  "metadata": {
    "colab": {
      "provenance": [],
      "authorship_tag": "ABX9TyMgKUjUfTJYn6S2Emq0QwXd",
      "include_colab_link": true
    },
    "kernelspec": {
      "name": "python3",
      "display_name": "Python 3"
    },
    "language_info": {
      "name": "python"
    }
  },
  "cells": [
    {
      "cell_type": "markdown",
      "metadata": {
        "id": "view-in-github",
        "colab_type": "text"
      },
      "source": [
        "<a href=\"https://colab.research.google.com/github/RakeshMishra26mgh/Ds_1/blob/main/Ds_1.ipynb\" target=\"_parent\"><img src=\"https://colab.research.google.com/assets/colab-badge.svg\" alt=\"Open In Colab\"/></a>"
      ]
    },
    {
      "cell_type": "markdown",
      "source": [
        "Answer 1:-"
      ],
      "metadata": {
        "id": "e0vMa78tZDs-"
      }
    },
    {
      "cell_type": "code",
      "source": [
        "def reverse_string(string):\n",
        "    reversed_string = ''\n",
        "    for i in range(len(string)-1, -1, -1):\n",
        "        reversed_string += string[i]\n",
        "    return reversed_string\n",
        "\n",
        "string = input(\"Enter a string: \")\n",
        "print(\"Reverse of the string is: \", reverse_string(string))\n"
      ],
      "metadata": {
        "id": "X2anOOakZH8t"
      },
      "execution_count": null,
      "outputs": []
    },
    {
      "cell_type": "markdown",
      "source": [
        "Answer 2:-"
      ],
      "metadata": {
        "id": "4OKh0l0KZbnd"
      }
    },
    {
      "cell_type": "code",
      "source": [
        "def is_palindrome(string):\n",
        "    return string == string[::-1]\n",
        "\n",
        "string = input(\"Enter a string: \")\n",
        "if is_palindrome(string):\n",
        "    print(\"The string is a palindrome.\")\n",
        "else:\n",
        "    print(\"The string is not a palindrome.\")\n"
      ],
      "metadata": {
        "id": "PkbSrVBKZdXu"
      },
      "execution_count": null,
      "outputs": []
    },
    {
      "cell_type": "markdown",
      "source": [
        "Answer 3:-"
      ],
      "metadata": {
        "id": "KyVKDGNNZ7RU"
      }
    },
    {
      "cell_type": "code",
      "source": [
        "def find_largest_element(lst):\n",
        "    largest_element = lst[0]\n",
        "    for element in lst:\n",
        "        if element > largest_element:\n",
        "            largest_element = element\n",
        "    return largest_element\n",
        "\n",
        "lst = input(\"enter the elements of the list separated by comma only\")\n",
        "lst_t=[int(n) for n in lst.split(\",\")]\n",
        "print(\"The largest element in the list is:\", find_largest_element(lst_t))\n"
      ],
      "metadata": {
        "id": "teMTyrS8Z9fE"
      },
      "execution_count": null,
      "outputs": []
    },
    {
      "cell_type": "markdown",
      "source": [
        "Answer 4:-"
      ],
      "metadata": {
        "id": "atlc290Ga_01"
      }
    },
    {
      "cell_type": "code",
      "source": [
        "def count_occurrences(lst):\n",
        "    occurrences = {}\n",
        "    for element in lst:\n",
        "        if element in occurrences:\n",
        "            occurrences[element] += 1\n",
        "        else:\n",
        "            occurrences[element] = 1\n",
        "    return occurrences\n",
        "\n",
        "lst =  input(\"enter the elements of the list separated by comma only:\")\n",
        "lst_t=[int(n) for n in lst.split(\",\")]\n",
        "print(\"The occurrence of each element in the list is:\", count_occurrences(lst_t))\n"
      ],
      "metadata": {
        "id": "mTzqkyzlbBbs"
      },
      "execution_count": null,
      "outputs": []
    },
    {
      "cell_type": "markdown",
      "source": [
        "Answer 5:-"
      ],
      "metadata": {
        "id": "ogj2hZSRcLzU"
      }
    },
    {
      "cell_type": "code",
      "source": [
        "def find_second_largest(lst):\n",
        "    largest = None\n",
        "    second_largest = None\n",
        "    for element in lst:\n",
        "        if largest is None or element > largest:\n",
        "            second_largest = largest\n",
        "            largest = element\n",
        "        elif second_largest is None or element > second_largest:\n",
        "            second_largest = element\n",
        "    return second_largest\n",
        "\n",
        "lst =  input(\"enter the elements of the list separated by comma only:\")\n",
        "lst_t=[int(n) for n in lst.split(\",\")]\n",
        "print(\"The second largest number in the list is:\", find_second_largest(lst_t))\n"
      ],
      "metadata": {
        "id": "IHOXzWhUcNn0"
      },
      "execution_count": null,
      "outputs": []
    },
    {
      "cell_type": "markdown",
      "source": [
        "Answer 6:-"
      ],
      "metadata": {
        "id": "BayufgH3dVeV"
      }
    },
    {
      "cell_type": "code",
      "source": [
        "def remove_duplicates(lst):\n",
        "    new_lst = []\n",
        "    for element in lst:\n",
        "        if element not in new_lst:\n",
        "            new_lst.append(element)\n",
        "    return new_lst\n",
        "\n",
        "lst_str = input(\"Enter the elements of the list separated by commas: \")\n",
        "lst = [int(x) for x in lst_str.split(\",\")]\n",
        "print(\"The list with duplicates removed is:\", remove_duplicates(lst))\n"
      ],
      "metadata": {
        "id": "FNz62Om8gZ7m"
      },
      "execution_count": null,
      "outputs": []
    },
    {
      "cell_type": "markdown",
      "source": [
        "Answer 7:-"
      ],
      "metadata": {
        "id": "BDJorat_gv-L"
      }
    },
    {
      "cell_type": "code",
      "source": [
        "def factorial(n):\n",
        "    if n == 0:\n",
        "        return 1\n",
        "    else:\n",
        "        return n * factorial(n-1)\n",
        "\n",
        "n = int(input(\"Enter a number: \"))\n",
        "print(\"The factorial of\", n, \"is\", factorial(n))\n"
      ],
      "metadata": {
        "id": "TArSXRthgyCb"
      },
      "execution_count": null,
      "outputs": []
    },
    {
      "cell_type": "markdown",
      "source": [
        "Answer 8:-"
      ],
      "metadata": {
        "id": "Di5i8ysqhIf8"
      }
    },
    {
      "cell_type": "code",
      "source": [
        "def is_prime(n):\n",
        "    if n <= 1:\n",
        "        return False\n",
        "    for i in range(2,n):\n",
        "      if n % i == 0:\n",
        "        return False\n",
        "    return True\n",
        "\n",
        "n = int(input(\"Enter a number: \"))\n",
        "if is_prime(n):\n",
        "    print(n, \"is prime\")\n",
        "else:\n",
        "    print(n, \"is not prime\")\n"
      ],
      "metadata": {
        "id": "lci1lwl8hKRL"
      },
      "execution_count": null,
      "outputs": []
    },
    {
      "cell_type": "markdown",
      "source": [
        "Answer 9:-"
      ],
      "metadata": {
        "id": "2mGbGdS6i6yC"
      }
    },
    {
      "cell_type": "code",
      "source": [
        "def sort_list(lst):\n",
        "    return sorted(lst)\n",
        "\n",
        "lst_str = input(\"Enter the elements of the list separated by commas: \")\n",
        "lst = [int(x) for x in lst_str.split(\",\")]\n",
        "print(\"The sorted list is:\", sort_list(lst))\n"
      ],
      "metadata": {
        "id": "qLk925NTi8jc"
      },
      "execution_count": null,
      "outputs": []
    },
    {
      "cell_type": "markdown",
      "source": [
        "Answer 10:-"
      ],
      "metadata": {
        "id": "cxA0WY75jjHS"
      }
    },
    {
      "cell_type": "code",
      "source": [
        "def sum_list(lst):\n",
        "    return sum(lst)\n",
        "\n",
        "lst_str = input(\"Enter the elements of the list separated by commas: \")\n",
        "lst = [int(x) for x in lst_str.split(\",\")]\n",
        "print(\"The sum of the list is:\", sum_list(lst))\n"
      ],
      "metadata": {
        "id": "VH-jPBz5jl3T"
      },
      "execution_count": null,
      "outputs": []
    },
    {
      "cell_type": "markdown",
      "source": [
        "Answer 11:-"
      ],
      "metadata": {
        "id": "WrTbasLNj_Pa"
      }
    },
    {
      "cell_type": "code",
      "source": [
        "def common_elements(lst1, lst2):\n",
        "    return list(set(lst1) & set(lst2))\n",
        "\n",
        "lst1_str = input(\"Enter the elements of the first list separated by commas: \")\n",
        "lst1 = [int(x) for x in lst1_str.split(\",\")]\n",
        "lst2_str = input(\"Enter the elements of the second list separated by commas: \")\n",
        "lst2 = [int(x) for x in lst2_str.split(\",\")]\n",
        "print(\"The common elements between the two lists are:\", common_elements(lst1, lst2))\n"
      ],
      "metadata": {
        "id": "grGX5bJPkBc1"
      },
      "execution_count": null,
      "outputs": []
    },
    {
      "cell_type": "markdown",
      "source": [
        "Answer 12:-"
      ],
      "metadata": {
        "id": "euzJeGjbktdk"
      }
    },
    {
      "cell_type": "code",
      "source": [
        "def is_anagram(s1, s2):\n",
        "    s1 = s1.replace(' ', '').lower()\n",
        "    s2 = s2.replace(' ', '').lower()\n",
        "\n",
        "    if len(s1) != len(s2):\n",
        "        return False\n",
        "    return sorted(s1) == sorted(s2)\n",
        "\n",
        "s1 = input(\"Enter the first string: \")\n",
        "s2 = input(\"Enter the second string: \")\n",
        "\n",
        "if is_anagram(s1, s2):\n",
        "    print(\"The strings are anagrams.\")\n",
        "else:\n",
        "    print(\"The strings are not anagrams.\")\n"
      ],
      "metadata": {
        "id": "VPbvq7tLkvjj"
      },
      "execution_count": null,
      "outputs": []
    },
    {
      "cell_type": "markdown",
      "source": [
        "Answer 13:-"
      ],
      "metadata": {
        "id": "OPH45hjcnE29"
      }
    },
    {
      "cell_type": "code",
      "source": [
        "from itertools import permutations\n",
        "\n",
        "def all_permutations(string):\n",
        "    return [''.join(p) for p in permutations(string)]\n",
        "\n",
        "string=input(\"enter the string:\")\n",
        "result = all_permutations(string)\n",
        "print(result)\n"
      ],
      "metadata": {
        "id": "1Z-n8uhHpB2i"
      },
      "execution_count": null,
      "outputs": []
    },
    {
      "cell_type": "markdown",
      "source": [
        "Answer 14:-"
      ],
      "metadata": {
        "id": "Vjulru-fpuSq"
      }
    },
    {
      "cell_type": "code",
      "source": [
        "def fibonacci(n):\n",
        "    a, b = 0, 1\n",
        "    for _ in range(n):\n",
        "        yield a\n",
        "        a, b = b, a + b\n",
        "\n",
        "n = int(input(\"enter the nuber :\"))\n",
        "result = list(fibonacci(n))\n",
        "print(result)\n"
      ],
      "metadata": {
        "id": "QNh52XbPpwUy"
      },
      "execution_count": null,
      "outputs": []
    },
    {
      "cell_type": "markdown",
      "source": [
        "Answer 15:-"
      ],
      "metadata": {
        "id": "578nrXhRqshx"
      }
    },
    {
      "cell_type": "code",
      "source": [
        "def median(numbers):\n",
        "    n = len(numbers)\n",
        "    sorted_numbers = sorted(numbers)\n",
        "    middle = n // 2\n",
        "    if n % 2 == 0:\n",
        "        return (sorted_numbers[middle - 1] + sorted_numbers[middle]) / 2\n",
        "    else:\n",
        "        return sorted_numbers[middle]\n",
        "\n",
        "user_str = input(\"Enter the elements of the first list separated by commas: \")\n",
        "user = [int(x) for x in lst1_str.split(\",\")]\n",
        "result = median(user)\n",
        "print(result)\n"
      ],
      "metadata": {
        "id": "zo1ZZI-EquQ7"
      },
      "execution_count": null,
      "outputs": []
    },
    {
      "cell_type": "markdown",
      "source": [
        "Answer 16:-"
      ],
      "metadata": {
        "id": "cvlsbtNqrh6z"
      }
    },
    {
      "cell_type": "code",
      "source": [
        "def is_sorted(lst):\n",
        "    return all(lst[i] <= lst[i+1] for i in range(len(lst)-1))\n",
        "\n",
        "lst_str = input(\"Enter a list of numbers separated by comma: \")\n",
        "lst = [int(i) for i in lst_str.split(\",\")]\n",
        "\n",
        "if is_sorted(lst):\n",
        "    print(\"The list is sorted in non-decreasing order.\")\n",
        "else:\n",
        "    print(\"The list is not sorted in non-decreasing order.\")\n"
      ],
      "metadata": {
        "id": "wiTdSsvKtGqq"
      },
      "execution_count": null,
      "outputs": []
    },
    {
      "cell_type": "markdown",
      "source": [
        "Answer 17:-"
      ],
      "metadata": {
        "id": "iqw26Puptx7B"
      }
    },
    {
      "cell_type": "code",
      "source": [
        "def intersection(lst1, lst2):\n",
        "    return list(set(lst1) & set(lst2))\n",
        "\n",
        "lst1 = input(\"Enter the first list of numbers separated by comma: \")\n",
        "lst1 = [int(i) for i in lst1.split(\",\")]\n",
        "\n",
        "lst2 = input(\"Enter the second list of numbers separated by comma: \")\n",
        "lst2 = [int(i) for i in lst2.split(\",\")]\n",
        "\n",
        "print(\"The intersection of the two lists is:\", intersection(lst1, lst2))\n"
      ],
      "metadata": {
        "id": "Cm4HMlLTtz7a"
      },
      "execution_count": null,
      "outputs": []
    },
    {
      "cell_type": "markdown",
      "source": [
        "Answer 18:-"
      ],
      "metadata": {
        "id": "zr1aRyTeuhbJ"
      }
    },
    {
      "cell_type": "code",
      "source": [
        "def max_subarray_sum(lst):\n",
        "    max_sum = lst[0]\n",
        "    current_sum = lst[0]\n",
        "    for i in range(1, len(lst)):\n",
        "        current_sum = max(lst[i], current_sum + lst[i])\n",
        "        max_sum = max(max_sum, current_sum)\n",
        "    return max_sum\n",
        "\n",
        "lst = input(\"Enter a list of numbers separated by comma: \")\n",
        "lst = [int(i) for i in lst.split(\",\")]\n",
        "\n",
        "print(\"The maximum subarray sum is:\", max_subarray_sum(lst))\n"
      ],
      "metadata": {
        "id": "YEehZv20uk07"
      },
      "execution_count": null,
      "outputs": []
    },
    {
      "cell_type": "markdown",
      "source": [
        "Answer 19:-"
      ],
      "metadata": {
        "id": "lhknXrpsvE6h"
      }
    },
    {
      "cell_type": "code",
      "source": [
        "def remove_vowels(s):\n",
        "    vowels = \"aeiouAEIOU\"\n",
        "    return \"\".join([char for char in s if char not in vowels])\n",
        "\n",
        "s = input(\"Enter a string: \")\n",
        "print(\"The string without vowels is:\", remove_vowels(s))\n"
      ],
      "metadata": {
        "id": "XU8tdv2fvG24"
      },
      "execution_count": null,
      "outputs": []
    },
    {
      "cell_type": "markdown",
      "source": [
        "Answer 20:-"
      ],
      "metadata": {
        "id": "srTtpbR6vgy7"
      }
    },
    {
      "cell_type": "code",
      "source": [
        "def reverse_sentence(sentence):\n",
        "    words = sentence.split(\" \")\n",
        "    words.reverse()\n",
        "    return \" \".join(words)\n",
        "\n",
        "sentence = input(\"Enter a sentence: \")\n",
        "\n",
        "print(\"The reversed sentence is:\", reverse_sentence(sentence))\n"
      ],
      "metadata": {
        "id": "r211m9Rbvik6"
      },
      "execution_count": null,
      "outputs": []
    },
    {
      "cell_type": "markdown",
      "source": [
        "Answer 21:-"
      ],
      "metadata": {
        "id": "YKI7uDMjwPAQ"
      }
    },
    {
      "cell_type": "code",
      "source": [
        "def is_anagram(s1, s2):\n",
        "    return sorted(s1) == sorted(s2)\n",
        "\n",
        "s1 = input(\"Enter the first string: \")\n",
        "s2 = input(\"Enter the second string: \")\n",
        "\n",
        "if is_anagram(s1, s2):\n",
        "    print(\"The two strings are anagrams of each other.\")\n",
        "else:\n",
        "    print(\"The two strings are not anagrams of each other.\")\n"
      ],
      "metadata": {
        "id": "nrXipBU1wQ4o"
      },
      "execution_count": null,
      "outputs": []
    },
    {
      "cell_type": "markdown",
      "source": [
        "Answer 22:-"
      ],
      "metadata": {
        "id": "uIsmzwiBwi4S"
      }
    },
    {
      "cell_type": "code",
      "source": [
        "def first_non_repeating_char(s):\n",
        "    char_count = {}\n",
        "    for char in s:\n",
        "        if char in char_count:\n",
        "            char_count[char] += 1\n",
        "        else:\n",
        "            char_count[char] = 1\n",
        "    for char in s:\n",
        "        if char_count[char] == 1:\n",
        "            return char\n",
        "    return None\n",
        "\n",
        "s = input(\"Enter a string: \")\n",
        "\n",
        "result = first_non_repeating_char(s)\n",
        "\n",
        "if result is None:\n",
        "    print(\"There are no non-repeating characters in the string.\")\n",
        "else:\n",
        "    print(\"The first non-repeating character is:\", result)\n"
      ],
      "metadata": {
        "id": "Dn-g-1Hdwk-p"
      },
      "execution_count": null,
      "outputs": []
    },
    {
      "cell_type": "markdown",
      "source": [
        "Answer 23:-"
      ],
      "metadata": {
        "id": "s6rjBtMCxLuA"
      }
    },
    {
      "cell_type": "code",
      "source": [
        "def prime_factors(n):\n",
        "    factors = []\n",
        "    i = 2\n",
        "    while i <= n:\n",
        "        if n % i == 0:\n",
        "            factors.append(i)\n",
        "            n //= i\n",
        "        else:\n",
        "            i += 1\n",
        "    return factors\n",
        "\n",
        "n = int(input(\"Enter a number: \"))\n",
        "print(\"The prime factors of\", n, \"are:\", prime_factors(n))\n"
      ],
      "metadata": {
        "id": "HJbDmc4ixN-A"
      },
      "execution_count": null,
      "outputs": []
    },
    {
      "cell_type": "markdown",
      "source": [
        "Answer 24:-"
      ],
      "metadata": {
        "id": "OqSE1xQMyAm4"
      }
    },
    {
      "cell_type": "code",
      "source": [
        "def is_power_of_two(n):\n",
        "    return n != 0 and (n & (n - 1)) == 0\n",
        "\n",
        "n = int(input(\"Enter a number: \"))\n",
        "if is_power_of_two(n):\n",
        "    print(n, \"is a power of two.\")\n",
        "else:\n",
        "    print(n, \"is not a power of two.\")\n"
      ],
      "metadata": {
        "id": "mbksKM3DyCeB"
      },
      "execution_count": null,
      "outputs": []
    },
    {
      "cell_type": "markdown",
      "source": [
        "Answer 25:-"
      ],
      "metadata": {
        "id": "dJW_wc5XzejY"
      }
    },
    {
      "cell_type": "code",
      "source": [
        "def merge_sorted_lists(list1, list2):\n",
        "    merged_list = []\n",
        "    i = 0\n",
        "    j = 0\n",
        "    while i < len(list1) and j < len(list2):\n",
        "        if list1[i] < list2[j]:\n",
        "            merged_list.append(list1[i])\n",
        "            i += 1\n",
        "        else:\n",
        "            merged_list.append(list2[j])\n",
        "            j += 1\n",
        "    merged_list += list1[i:]\n",
        "    merged_list += list2[j:]\n",
        "    return merged_list\n",
        "\n",
        "list1 = input(\"Enter the first list of numbers separated by comma: \")\n",
        "list1 = [int(i) for i in list1.split(\",\")]\n",
        "\n",
        "list2 = input(\"Enter the second list of numbers separated by comma: \")\n",
        "list2 = [int(i) for i in list2.split(\",\")]\n",
        "print(\"List 1:\", list1)\n",
        "print(\"List 2:\", list2)\n",
        "\n",
        "merged_list = merge_sorted_lists(list1, list2)\n",
        "\n",
        "print(\"Merged list:\", merged_list)\n"
      ],
      "metadata": {
        "id": "6OWBDvCKzgPZ"
      },
      "execution_count": null,
      "outputs": []
    },
    {
      "cell_type": "markdown",
      "source": [
        "Answer 26:-"
      ],
      "metadata": {
        "id": "P5nqobfS03gA"
      }
    },
    {
      "cell_type": "code",
      "source": [
        "def find_mode(numbers):\n",
        "    frequency = {}\n",
        "    for number in numbers:\n",
        "        if number in frequency:\n",
        "            frequency[number] += 1\n",
        "        else:\n",
        "            frequency[number] = 1\n",
        "    max_frequency = max(frequency.values())\n",
        "    mode_list = [number for number, freq in frequency.items() if freq == max_frequency]\n",
        "    return mode_list\n",
        "\n",
        "numbers = input(\"enter the numbers separated by comma only:\")\n",
        "numbers=[int(n) for n in numbers.split(\",\")]\n",
        "print(\"Numbers:\", numbers)\n",
        "\n",
        "mode_list = find_mode(numbers)\n",
        "\n",
        "if len(mode_list) == 1:\n",
        "    print(\"The mode is:\", mode_list[0])\n",
        "else:\n",
        "    print(\"The modes are:\", \", \".join(str(mode) for mode in mode_list))\n"
      ],
      "metadata": {
        "id": "t-Aml7zV05Oy"
      },
      "execution_count": null,
      "outputs": []
    },
    {
      "cell_type": "markdown",
      "source": [
        "Answer 27:-"
      ],
      "metadata": {
        "id": "M0Kkh9aN2JBp"
      }
    },
    {
      "cell_type": "code",
      "source": [
        "def gcd(a, b):\n",
        "    if b == 0:\n",
        "        return a\n",
        "    else:\n",
        "        return gcd(b, a % b)\n",
        "\n",
        "a = int(input(\"enter a number a:\"))\n",
        "b = int(input(\"enter a number b:\"))\n",
        "print(\"a =\", a)\n",
        "print(\"b =\", b)\n",
        "print(\"GCD of\", a, \"and\", b, \"is\", gcd(a, b))\n"
      ],
      "metadata": {
        "id": "SEqzUhwI2DTq"
      },
      "execution_count": null,
      "outputs": []
    },
    {
      "cell_type": "markdown",
      "source": [
        "Answer 28:-"
      ],
      "metadata": {
        "id": "pkfRMdv724vo"
      }
    },
    {
      "cell_type": "code",
      "source": [
        "def sqrt(number):\n",
        "    if number < 0:\n",
        "        return \"Invalid input\"\n",
        "    elif number == 0:\n",
        "        return 0\n",
        "    else:\n",
        "        return number ** 0.5\n",
        "\n",
        "number = int(input(\"enter a number :\"))\n",
        "\n",
        "print(\"Number is :\", number)\n",
        "\n",
        "print(\"Square root of\", number, \"is\", sqrt(number))\n"
      ],
      "metadata": {
        "id": "bxlMN7O-27LA"
      },
      "execution_count": null,
      "outputs": []
    },
    {
      "cell_type": "markdown",
      "source": [
        "Answer 29:-"
      ],
      "metadata": {
        "id": "dDtwwG974iJH"
      }
    },
    {
      "cell_type": "code",
      "source": [
        "def is_palindrome(string):\n",
        "    alphanumeric_string = \"\".join(char.lower() for char in string if char.isalnum())\n",
        "    return alphanumeric_string == alphanumeric_string[::-1]\n",
        "\n",
        "string = input(\"enter the string :\")\n",
        "print(\"String:\", string)\n",
        "\n",
        "if is_palindrome(string):\n",
        "    print(\"The string is a palindrome.\")\n",
        "else:\n",
        "    print(\"The string is not a palindrome.\")\n"
      ],
      "metadata": {
        "id": "aUPRDM554j63"
      },
      "execution_count": null,
      "outputs": []
    },
    {
      "cell_type": "markdown",
      "source": [
        "Answer 30:-"
      ],
      "metadata": {
        "id": "s1LFMIXH5lWn"
      }
    },
    {
      "cell_type": "code",
      "source": [
        "def find_min(nums):\n",
        "    left = 0\n",
        "    right = len(nums) - 1\n",
        "    while left < right:\n",
        "        mid = (left + right) // 2\n",
        "\n",
        "        if nums[mid] > nums[right]:\n",
        "            left = mid + 1\n",
        "        else:\n",
        "            right = mid\n",
        "\n",
        "    return nums[left]\n",
        "\n",
        "nums = input(\"enter the numbers separated by comma only:\")\n",
        "nums=[int(n) for n in nums.split(\",\")]\n",
        "print(\"List:\", nums)\n",
        "print(\"Minimum element in the list is:\", find_min(nums))\n"
      ],
      "metadata": {
        "id": "jelqIjE65nuP"
      },
      "execution_count": null,
      "outputs": []
    },
    {
      "cell_type": "markdown",
      "source": [
        "Answer 31:-"
      ],
      "metadata": {
        "id": "EYMZt8za6Fx2"
      }
    },
    {
      "cell_type": "code",
      "source": [
        "def sum_even(numbers):\n",
        "    return sum(number for number in numbers if number % 2 == 0)\n",
        "\n",
        "nums = input(\"enter the numbers separated by comma only:\")\n",
        "nums=[int(n) for n in nums.split(\",\")]\n",
        "\n",
        "print(\"Numbers:\", nums)\n",
        "\n",
        "print(\"Sum of even numbers in the list is:\", sum_even(nums))\n"
      ],
      "metadata": {
        "id": "NobmHc2a6IV4"
      },
      "execution_count": null,
      "outputs": []
    },
    {
      "cell_type": "markdown",
      "source": [
        "Answer 32:-"
      ],
      "metadata": {
        "id": "SVgDujTK6e0Z"
      }
    },
    {
      "cell_type": "code",
      "source": [
        "def power(base, exponent):\n",
        "    if exponent == 0:\n",
        "        return 1\n",
        "    elif exponent == 1:\n",
        "        return base\n",
        "    else:\n",
        "        return base * power(base, exponent - 1)\n",
        "\n",
        "base = int(input(\"enter the base number:\"))\n",
        "exponent = int(input(\"enter the exponent value:\"))\n",
        "\n",
        "print(\"Base:\", base)\n",
        "print(\"Exponent:\", exponent)\n",
        "\n",
        "print(\"Power of\", base, \"raised to\", exponent, \"is\", power(base, exponent))\n"
      ],
      "metadata": {
        "id": "7ZX58Pq16gkm"
      },
      "execution_count": null,
      "outputs": []
    },
    {
      "cell_type": "markdown",
      "source": [
        "Answer 33:-"
      ],
      "metadata": {
        "id": "diJfumsf630p"
      }
    },
    {
      "cell_type": "code",
      "source": [
        "def remove_duplicates(numbers):\n",
        "    seen = set()\n",
        "    result = []\n",
        "\n",
        "    for number in numbers:\n",
        "        if number not in seen:\n",
        "            seen.add(number)\n",
        "            result.append(number)\n",
        "\n",
        "    return result\n",
        "\n",
        "nums =input(\"enter the numbers separated by comma only:\")\n",
        "nums=[int(n) for n in nums.split(\",\")]\n",
        "print(\"Numbers:\", numbers)\n",
        "print(\"List with duplicates removed while preserving order:\", remove_duplicates(numbers))\n"
      ],
      "metadata": {
        "id": "r2ujuvEV6583"
      },
      "execution_count": null,
      "outputs": []
    },
    {
      "cell_type": "markdown",
      "source": [
        "Answer 34:-"
      ],
      "metadata": {
        "id": "csrxtObR8Chn"
      }
    },
    {
      "cell_type": "code",
      "source": [
        "def longest_common_prefix(strings):\n",
        "    if not strings:\n",
        "        return \"\"\n",
        "\n",
        "    prefix = strings[0]\n",
        "    for string in strings[1:]:\n",
        "        while string.find(prefix) != 0:\n",
        "            prefix = prefix[:-1]\n",
        "            if not prefix:\n",
        "                return \"\"\n",
        "\n",
        "    return prefix\n",
        "\n",
        "strings = input(\"Enter a list of strings separated by commas: \").split(\",\")\n",
        "print(\"Strings:\", strings)\n",
        "print(\"Longest common prefix:\", longest_common_prefix(strings))\n"
      ],
      "metadata": {
        "id": "QYaFe0_p8E3H"
      },
      "execution_count": null,
      "outputs": []
    },
    {
      "cell_type": "markdown",
      "source": [
        "Answer 35:-"
      ],
      "metadata": {
        "id": "FDDe4tSbGSZR"
      }
    },
    {
      "cell_type": "code",
      "source": [
        "def is_perfect_square(number):\n",
        "    if number < 0:\n",
        "        return False\n",
        "\n",
        "    if number == 0:\n",
        "        return True\n",
        "\n",
        "    left = 1\n",
        "    right = number\n",
        "\n",
        "    while left <= right:\n",
        "        mid = (left + right) // 2\n",
        "\n",
        "        if mid * mid == number:\n",
        "            return True\n",
        "\n",
        "        if mid * mid < number:\n",
        "            left = mid + 1\n",
        "        else:\n",
        "            right = mid - 1\n",
        "\n",
        "    return False\n",
        "\n",
        "number = int(input(\"Enter a number: \"))\n",
        "\n",
        "print(\"Number:\", number)\n",
        "\n",
        "if is_perfect_square(number):\n",
        "    print(\"The number is a perfect square.\")\n",
        "else:\n",
        "    print(\"The number is not a perfect square.\")\n"
      ],
      "metadata": {
        "id": "2fAAj4hfGYEi"
      },
      "execution_count": null,
      "outputs": []
    },
    {
      "cell_type": "markdown",
      "source": [
        "Answer 36:-"
      ],
      "metadata": {
        "id": "3nhiWyAFGw8I"
      }
    },
    {
      "cell_type": "code",
      "source": [
        "def product_of_list(lst):\n",
        "    result = 1\n",
        "    for i in lst:\n",
        "        result *= i\n",
        "    return result\n",
        "nums= input(\"enter the numbers separated by comma only:\")\n",
        "nums=[int(n) for n in nums.split(\",\")]\n",
        "print(product_of_list(nums))\n"
      ],
      "metadata": {
        "id": "1Z1EBA_NGz_Y"
      },
      "execution_count": null,
      "outputs": []
    },
    {
      "cell_type": "markdown",
      "source": [
        "Answer 37:-"
      ],
      "metadata": {
        "id": "4VSBX9CDHkIX"
      }
    },
    {
      "cell_type": "code",
      "source": [
        "def reverse_sentence(sentence):\n",
        "    words = sentence.split(\" \")\n",
        "    words.reverse()\n",
        "    return \" \".join(words)\n",
        "\n",
        "sentence = input(\"Enter a sentence: \")\n",
        "\n",
        "print(\"The reversed sentence is:\", reverse_sentence(sentence))"
      ],
      "metadata": {
        "id": "Bde4XmUTIjDg"
      },
      "execution_count": null,
      "outputs": []
    },
    {
      "cell_type": "markdown",
      "source": [
        "Answer 38:-"
      ],
      "metadata": {
        "id": "6pew8eVkIxvI"
      }
    },
    {
      "cell_type": "code",
      "source": [
        "def find_missing_number(lst):\n",
        "    n = len(lst)\n",
        "    total_sum = (n + 1) * (n + 2) // 2\n",
        "    sum_of_lst = sum(lst)\n",
        "    return total_sum - sum_of_lst\n",
        "\n",
        "my_list = input(\"enter the numbers separated by comma only:\")\n",
        "my_list=[int(n) for n in my_list.split(\",\")]\n",
        "print(find_missing_number(my_list))\n"
      ],
      "metadata": {
        "id": "pxmT8IetI0NR"
      },
      "execution_count": null,
      "outputs": []
    },
    {
      "cell_type": "markdown",
      "source": [
        "Answer 39:-"
      ],
      "metadata": {
        "id": "oK9Ib0SeJjf_"
      }
    },
    {
      "cell_type": "code",
      "source": [
        "def sum_of_digits(n):\n",
        "    total = 0\n",
        "    while n > 0:\n",
        "        digit = n % 10\n",
        "        total += digit\n",
        "        n //= 10\n",
        "    return total\n",
        "\n",
        "number = int(input(\"enter the number:\"))\n",
        "print(sum_of_digits(number))\n"
      ],
      "metadata": {
        "id": "ZrjjW0uVJloQ"
      },
      "execution_count": null,
      "outputs": []
    },
    {
      "cell_type": "markdown",
      "source": [
        "Answer 40:-"
      ],
      "metadata": {
        "id": "JOzW7UHIKEag"
      }
    },
    {
      "cell_type": "code",
      "source": [
        "def is_palindrome(s):\n",
        "    return s == s[::-1]\n",
        "\n",
        "string = input(\"enter the string:\")\n",
        "if is_palindrome(string):\n",
        "    print(f\"{string} is a palindrome\")\n",
        "else:\n",
        "    print(f\"{string} is not a palindrome\")\n"
      ],
      "metadata": {
        "id": "hixJWw26KHD4"
      },
      "execution_count": null,
      "outputs": []
    },
    {
      "cell_type": "markdown",
      "source": [
        "Answer 41:-"
      ],
      "metadata": {
        "id": "PnfoQXBnKtDC"
      }
    },
    {
      "cell_type": "code",
      "source": [
        "def find_smallest_missing_positive_integer(lst):\n",
        "    n = len(lst)\n",
        "    for i in range(n):\n",
        "        if lst[i] <= 0 or lst[i] > n:\n",
        "            continue\n",
        "        val = lst[i]\n",
        "        while lst[val - 1] != val:\n",
        "            next_val = lst[val - 1]\n",
        "            lst[val - 1] = val\n",
        "            val = next_val\n",
        "            if val <= 0 or val > n:\n",
        "                break\n",
        "    for i in range(n):\n",
        "        if lst[i] != i + 1:\n",
        "            return i + 1\n",
        "    return n + 1\n",
        "\n",
        "lst = input(\"enter the numbers separated by comma only:\")\n",
        "lst=[int(n) for n in lst.split(\",\")]\n",
        "print(find_smallest_missing_positive_integer(lst))\n"
      ],
      "metadata": {
        "id": "Xsk37Z4fKuzA"
      },
      "execution_count": null,
      "outputs": []
    },
    {
      "cell_type": "markdown",
      "source": [
        "Answer 42:-"
      ],
      "metadata": {
        "id": "B0XVHkZBLSwg"
      }
    },
    {
      "cell_type": "code",
      "source": [
        "def longest_palindrome_substring(s):\n",
        "    n = len(s)\n",
        "    dp = [[False] * n for _ in range(n)]\n",
        "    start = 0\n",
        "    max_len = 1\n",
        "\n",
        "    for i in range(n):\n",
        "        dp[i][i] = True\n",
        "\n",
        "\n",
        "    for i in range(n - 1):\n",
        "        if s[i] == s[i + 1]:\n",
        "            dp[i][i + 1] = True\n",
        "            start = i\n",
        "            max_len = 2\n",
        "\n",
        "    for k in range(3, n + 1):\n",
        "        for i in range(n - k + 1):\n",
        "            j = i + k - 1\n",
        "            if dp[i + 1][j - 1] and s[i] == s[j]:\n",
        "                dp[i][j] = True\n",
        "                if k > max_len:\n",
        "                    start = i\n",
        "                    max_len = k\n",
        "\n",
        "    return s[start:start + max_len]\n",
        "\n",
        "s = input(\"enter tthe string:\")\n",
        "print(longest_palindrome_substring(s))\n"
      ],
      "metadata": {
        "id": "HuEB11_HLVlX"
      },
      "execution_count": null,
      "outputs": []
    },
    {
      "cell_type": "markdown",
      "source": [
        "Answer 43:-"
      ],
      "metadata": {
        "id": "6j_e8ljFL8TA"
      }
    },
    {
      "cell_type": "code",
      "source": [
        "def count_occurrences(lst, x):\n",
        "    return lst.count(x)\n",
        "\n",
        "lst = []\n",
        "n = int(input(\"Enter number of elements : \"))\n",
        "\n",
        "for i in range(0, n):\n",
        "    ele = int(input())\n",
        "    lst.append(ele)\n",
        "\n",
        "x = int(input(\"Enter the element to count : \"))\n",
        "\n",
        "print(count_occurrences(lst, x))\n"
      ],
      "metadata": {
        "id": "lLFpXtf4L_Oi"
      },
      "execution_count": null,
      "outputs": []
    },
    {
      "cell_type": "markdown",
      "source": [
        "Answer 44:-"
      ],
      "metadata": {
        "id": "r9ljnCkRMvNO"
      }
    },
    {
      "cell_type": "code",
      "source": [
        "def is_perfect(n):\n",
        "    sum = 0\n",
        "    for i in range(1, n):\n",
        "        if n % i == 0:\n",
        "            sum += i\n",
        "    return sum == n\n",
        "\n",
        "n = int(input(\"Enter a number: \"))\n",
        "if is_perfect(n):\n",
        "    print(n, \"is a perfect number\")\n",
        "else:\n",
        "    print(n, \"is not a perfect number\")\n"
      ],
      "metadata": {
        "id": "7TKPsOVDMxSf"
      },
      "execution_count": null,
      "outputs": []
    },
    {
      "cell_type": "markdown",
      "source": [
        "Answer 45:-"
      ],
      "metadata": {
        "id": "nuP7qmkPNWEu"
      }
    },
    {
      "cell_type": "code",
      "source": [
        "def remove_duplicates(string):\n",
        "    result = []\n",
        "    for char in string:\n",
        "        if char not in result:\n",
        "            result.append(char)\n",
        "    return \"\".join(result)\n",
        "\n",
        "string = input(\"Enter a string: \")\n",
        "print(remove_duplicates(string))\n"
      ],
      "metadata": {
        "id": "noLzgD9TN4to"
      },
      "execution_count": null,
      "outputs": []
    },
    {
      "cell_type": "markdown",
      "source": [
        "Answer 46:-"
      ],
      "metadata": {
        "id": "K74KRhimOByP"
      }
    },
    {
      "cell_type": "code",
      "source": [
        "def first_missing_positive(nums):\n",
        "    number_set = set(nums)\n",
        "    for n in range(1, len(nums) + 1):\n",
        "        if n not in number_set:\n",
        "            return n\n",
        "    return None\n",
        "\n",
        "nums = input(\"enter the numbers separated by comma only:\")\n",
        "nums=[int(n) for n in nums.split(\",\")]\n",
        "print(first_missing_positive(nums))\n"
      ],
      "metadata": {
        "id": "pOeOXNj9ODwA"
      },
      "execution_count": null,
      "outputs": []
    }
  ]
}